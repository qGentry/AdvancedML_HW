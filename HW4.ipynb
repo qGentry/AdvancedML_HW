{
 "cells": [
  {
   "cell_type": "code",
   "execution_count": 1,
   "metadata": {},
   "outputs": [],
   "source": [
    "import re\n",
    "import numpy as np"
   ]
  },
  {
   "cell_type": "code",
   "execution_count": 2,
   "metadata": {},
   "outputs": [],
   "source": [
    "message = '←⇠⇒↟↹↷⇊↹↷↟↤↟↨←↹↝⇛⇯↳⇴⇒⇈↝⇊↾↹↟⇒↟↹⇷⇛⇞↨↟↹↝⇛⇯↳⇴⇒⇈↝⇊↾↹↨←⇌⇠↨↹⇙↹⇸↨⇛↙⇛↹⇠⇛⇛↲⇆←↝↟↞↹⇌⇛↨⇛⇯⇊↾↹⇒←↙⇌⇛↹⇷⇯⇛⇞↟↨⇴↨⇈↹⇠⇌⇛⇯←←↹↷⇠←↙⇛↹↷⇊↹↷⇠←↹⇠↤←⇒⇴⇒↟↹⇷⇯⇴↷↟⇒⇈↝⇛↹↟↹⇷⇛⇒⇙⇞↟↨←↹↳⇴⇌⇠↟↳⇴⇒⇈↝⇊↾↹↲⇴⇒⇒↹⇰⇴↹⇷⇛⇠⇒←↤↝←←↹⇞←↨↷←⇯↨⇛←↹⇰⇴↤⇴↝↟←↹⇌⇙⇯⇠⇴↹↘⇛↨↞↹⇌⇛↝←⇞↝⇛↹↞↹↝↟⇞←↙⇛↹↝←↹⇛↲←⇆⇴⇏'"
   ]
  },
  {
   "cell_type": "code",
   "execution_count": null,
   "metadata": {},
   "outputs": [],
   "source": []
  },
  {
   "cell_type": "code",
   "execution_count": 3,
   "metadata": {},
   "outputs": [],
   "source": [
    "import random"
   ]
  },
  {
   "cell_type": "code",
   "execution_count": 4,
   "metadata": {},
   "outputs": [],
   "source": [
    "lines = []\n",
    "with open('hw4_data/WarAndPeace.txt') as f:\n",
    "    for line in f:\n",
    "        cur_line = line.strip('\\n') + ' '\n",
    "        if cur_line != ' ':\n",
    "            lines.append(cur_line)\n",
    "w8p = ' '.join(lines)"
   ]
  },
  {
   "cell_type": "code",
   "execution_count": 5,
   "metadata": {},
   "outputs": [],
   "source": [
    "def preprocess_rus(text):\n",
    "    text = text.lower()\n",
    "    text = re.sub('ё', 'е', text)\n",
    "    text = re.sub(r'[^а-я ]', '', text)\n",
    "    text = re.sub(r' +', ' ', text)\n",
    "    return text\n",
    "\n",
    "def preprocess_eng(text):\n",
    "    text = text.lower()\n",
    "    text = re.sub(r'[^a-z ]', '', text)\n",
    "    text = re.sub(r' +', ' ', text)\n",
    "    return text"
   ]
  },
  {
   "cell_type": "code",
   "execution_count": 6,
   "metadata": {},
   "outputs": [],
   "source": [
    "cleared_w8p = preprocess_rus(w8p)\n",
    "with open('w8p.txt', 'w') as f:\n",
    "    f.write(re.sub(' +', ' ', cleared_w8p))"
   ]
  },
  {
   "cell_type": "code",
   "execution_count": 7,
   "metadata": {},
   "outputs": [
    {
     "data": {
      "text/plain": [
       "'я надеюсь а праздник английского посланника нынче середа мне надо показаться там сказал князь дочь заедет за мной и повезет меня я думала что нынешний праздник отменен признаюсь все эти праздники и фейерверки становятся несносны ежели бы знали что вы этого хотите праздник бы отменили сказал князь по привычке как заведенные часы говоря вещи которым он и не хотел чтобы верили не мучьте меня ну что же решили по случаю депеши новосильцова вы все знаете как вам сказать сказал князь холодным скучающим тоном что решили решили что бонапарте сжег свои корабли и мы тоже кажется готовы сжечь наши князь василий говорил всегда лениво как актер говорит роль старой пиесы анна павловна шерер напротив несмотря на свои сорок лет была преисполнена оживления и порывов быть энтузиасткой сделалось ее общественным положением и иногда когда ей даже того не хотелось она чтобы не обмануть ожиданий людей знавших ее делалась энтузиасткой сдержанная улыбка игравшая постоянно на лице анны павловны хотя и не шла к'"
      ]
     },
     "execution_count": 7,
     "metadata": {},
     "output_type": "execute_result"
    }
   ],
   "source": [
    "test = cleared_w8p[2500:3498]\n",
    "test"
   ]
  },
  {
   "cell_type": "code",
   "execution_count": 8,
   "metadata": {},
   "outputs": [],
   "source": [
    "def create_encoder(text):\n",
    "    chars = set(list(text))\n",
    "    chars1 = list(chars)\n",
    "    random.shuffle(chars1)\n",
    "    return {char: char1 for char, char1 in zip(chars, chars1)}"
   ]
  },
  {
   "cell_type": "code",
   "execution_count": 9,
   "metadata": {},
   "outputs": [],
   "source": [
    "def encode_text(text):\n",
    "    result = []\n",
    "    encoder = create_encoder(text)\n",
    "    for char in text:\n",
    "        result.append(encoder[char])\n",
    "    return ''.join(result)"
   ]
  },
  {
   "cell_type": "code",
   "execution_count": 10,
   "metadata": {},
   "outputs": [
    {
     "data": {
      "text/plain": [
       "'шиаьрнбэяиьиспьхрафзиьачдфоэз ч ис эдьаафзьиаваениэнпнрьиюаниаьр ис зьхьмяэшимьюиэзьхьдизашхяир еяихьнрнмихьиюа оифис жнхнмиюнашиширкюьдьием иаванйафоиспьхрафзи мюнанаиспфхаьбэяижэнигмфиспьхрафзфифищнонпжнпзфиэмьа жшмэшианэа эавинундфицвихаьдфием ижвигм ч ил мфмниспьхрафзицви мюнафдфиэзьхьдизашхяис испфжвезнизьзихьжнрнаавниеьэвич ж пшижныфиз м пвюи аифианил мндием цвижнпфдфианиюкеямниюнашиакием иунипнйфдфис иэдкеьбирнснйфиа ж эфдят жьижвижэнихаьнмнизьзижьюиэзьхьмяиэзьхьдизашхяил д равюиэзкеьбыфюим а юием ипнйфдфипнйфдфием иц аьсьпмниэунчиэж физ пьцдфифиювим унизьунмэшич м жвиэунеяиаьйфизашхяижьэфдфоич ж пфдижэнчрьиднафж изьзиьзмнпич ж пфмип дяиэмьп оисфнэвиьааьисьжд жаьийнпнпиаьсп мфжианэю мпшиаьиэж фиэ п зиднмицвдьиспнфэс данаьи уфжднафшифис пвж жицвмяигамкхфьэмз оиэрндьд эяинни цынэмжнаавюис д унафнюифифа чрьиз чрьиноирьуним ч ианил мнд эяи аьием цвиани цюьакмяи уфрьафоидбрноихаьжйфлиннирндьдьэяигамкхфьэмз оиэрнпуьааьшикдвцзьифчпьжйьшис эм шаа иаьидфтниьаависьжд жавил мшифианийдьиз'"
      ]
     },
     "execution_count": 10,
     "metadata": {},
     "output_type": "execute_result"
    }
   ],
   "source": [
    "encoded_test = encode_text(test)\n",
    "encoded_test"
   ]
  },
  {
   "cell_type": "code",
   "execution_count": 59,
   "metadata": {},
   "outputs": [],
   "source": [
    "def calc_letter_rate(text):\n",
    "    letter_rates = {}\n",
    "    for char in text:\n",
    "        if char not in letter_rates:\n",
    "            letter_rates[char] = 1\n",
    "        else:\n",
    "            letter_rates[char] += 1\n",
    "    letter_rates = {char: count  for char, count in letter_rates.items()}\n",
    "    return {char: rate for char, rate in sorted(letter_rates.items(), key=lambda x: -x[1])}"
   ]
  },
  {
   "cell_type": "code",
   "execution_count": 12,
   "metadata": {},
   "outputs": [],
   "source": [
    "rates_w8p = calc_letter_rate(cleared_w8p)"
   ]
  },
  {
   "cell_type": "code",
   "execution_count": 13,
   "metadata": {},
   "outputs": [],
   "source": [
    "def translate(target, translator):\n",
    "    result = []\n",
    "    for char in target:\n",
    "        result.append(translator[char])\n",
    "    return ''.join(result)"
   ]
  },
  {
   "cell_type": "code",
   "execution_count": 14,
   "metadata": {},
   "outputs": [],
   "source": [
    "def build_translator(rates1, rates2):\n",
    "    translator = {}\n",
    "    for i in range(min(len(rates1), len(rates2))):\n",
    "        translator[list(rates2.keys())[i]] = list(rates1.keys())[i]\n",
    "    return translator"
   ]
  },
  {
   "cell_type": "code",
   "execution_count": 15,
   "metadata": {},
   "outputs": [],
   "source": [
    "rates_test = calc_letter_rate(encoded_test)"
   ]
  },
  {
   "cell_type": "code",
   "execution_count": 16,
   "metadata": {},
   "outputs": [],
   "source": [
    "trans_w8p = build_translator(rates_w8p, rates_test)\n"
   ]
  },
  {
   "cell_type": "code",
   "execution_count": 17,
   "metadata": {},
   "outputs": [
    {
     "data": {
      "text/plain": [
       "'я надеюсь а праздник английского посланника нынче середа мне надо показаться там сказал князь дочь заедет за мной и повезет меня я думала что нынешний праздник отменен признаюсь все эти праздники и фейерверки становятся несносны ежели бы знали что вы этого хотите праздник бы отменили сказал князь по привычке как заведенные часы говоря вещи которым он и не хотел чтобы верили не мучьте меня ну что же решили по случаю депеши новосильцова вы все знаете как вам сказать сказал князь холодным скучающим тоном что решили решили что бонапарте сжег свои корабли и мы тоже кажется готовы сжечь наши князь василий говорил всегда лениво как актер говорит роль старой пиесы анна павловна шерер напротив несмотря на свои сорок лет была преисполнена оживления и порывов быть энтузиасткой сделалось ее общественным положением и иногда когда ей даже того не хотелось она чтобы не обмануть ожиданий людей знавших ее делалась энтузиасткой сдержанная улыбка игравшая постоянно на лице анны павловны хотя и не шла к'"
      ]
     },
     "execution_count": 17,
     "metadata": {},
     "output_type": "execute_result"
    }
   ],
   "source": [
    "test"
   ]
  },
  {
   "cell_type": "code",
   "execution_count": 18,
   "metadata": {},
   "outputs": [
    {
     "data": {
      "text/plain": [
       "'я иауеюсь а пкамуинв аизлнбсвозо послаиинва идиые секеуа гие иауо поваматься таг свамал виямь уоыь маеует ма гиоб н поремет геия я ушгала ыто идиежинб пкамуинв отгеиеи пкнмиаюсь рсе цтн пкамуинвн н фебекреквн стаиорятся иесиосид ечелн йд миалн ыто рд цтозо хотнте пкамуинв йд отгеинлн свамал виямь по пкнрдыве вав мареуеииде ыасд зорокя реэн вотокдг ои н ие хотел ытойд рекнлн ие гшыьте геия иш ыто че кежнлн по слшыаю уепежн иороснльщора рд рсе миаете вав раг свамать свамал виямь холоуидг свшыаюэнг тоиог ыто кежнлн кежнлн ыто йоиапакте счез срон вокайлн н гд точе вачется зоторд счеыь иажн виямь раснлнб зорокнл рсезуа леинро вав автек зорокнт коль стакоб пнесд аииа парлориа жекек иапкотнр иесготкя иа срон соков лет йдла пкенсполиеиа очнрлеиня н покдрор йдть цитшмнаствоб суелалось ее ойэестреиидг полочеинег н ниозуа возуа еб уаче тозо ие хотелось оиа ытойд ие ойгаишть очнуаинб люуеб миаржнх ее уелалась цитшмнаствоб суекчаииая шлдйва нзкаржая постояиио иа лнще аиид парлорид хотя н ие жла в'"
      ]
     },
     "execution_count": 18,
     "metadata": {},
     "output_type": "execute_result"
    }
   ],
   "source": [
    "translation_w8p = translate(encoded_test, trans_w8p)\n",
    "translation_w8p"
   ]
  },
  {
   "cell_type": "code",
   "execution_count": 19,
   "metadata": {},
   "outputs": [],
   "source": [
    "from Levenshtein import distance as levenshtein_distance"
   ]
  },
  {
   "cell_type": "markdown",
   "metadata": {},
   "source": [
    "# расстояние левенштейна в данном случае эквивалентно 1-accuracy"
   ]
  },
  {
   "cell_type": "code",
   "execution_count": 23,
   "metadata": {},
   "outputs": [
    {
     "data": {
      "text/plain": [
       "0.5901803607214429"
      ]
     },
     "execution_count": 23,
     "metadata": {},
     "output_type": "execute_result"
    }
   ],
   "source": [
    "1 - levenshtein_distance(test, translation_w8p) / len(test)"
   ]
  },
  {
   "cell_type": "code",
   "execution_count": 24,
   "metadata": {},
   "outputs": [],
   "source": [
    "rates_message = calc_letter_rate(message)"
   ]
  },
  {
   "cell_type": "code",
   "execution_count": 25,
   "metadata": {},
   "outputs": [],
   "source": [
    "trans_w8p = build_translator(rates_w8p, rates_message)"
   ]
  },
  {
   "cell_type": "code",
   "execution_count": 26,
   "metadata": {},
   "outputs": [
    {
     "data": {
      "text/plain": [
       "'олие рд реяесо навгтиундь еие памсе навгтиундь соклс з шсаыа лаабйонеч касавдь иоыка пваместсу лкавоо рлоыа рд рло ляоитие пвтреиуна е паизмесо гтклегтиундь бтии жт палиояноо мосровсао жтятнео кзвлт хасч каномна ч немоыа но абойтю'"
      ]
     },
     "execution_count": 26,
     "metadata": {},
     "output_type": "execute_result"
    }
   ],
   "source": [
    "translate(message, trans_w8p)"
   ]
  },
  {
   "cell_type": "code",
   "execution_count": 27,
   "metadata": {},
   "outputs": [
    {
     "data": {
      "text/plain": [
       "'←⇠⇒↟↹↷⇊↹↷↟↤↟↨←↹↝⇛⇯↳⇴⇒⇈↝⇊↾↹↟⇒↟↹⇷⇛⇞↨↟↹↝⇛⇯↳⇴⇒⇈↝⇊↾↹↨←⇌⇠↨↹⇙↹⇸↨⇛↙⇛↹⇠⇛⇛↲⇆←↝↟↞↹⇌⇛↨⇛⇯⇊↾↹⇒←↙⇌⇛↹⇷⇯⇛⇞↟↨⇴↨⇈↹⇠⇌⇛⇯←←↹↷⇠←↙⇛↹↷⇊↹↷⇠←↹⇠↤←⇒⇴⇒↟↹⇷⇯⇴↷↟⇒⇈↝⇛↹↟↹⇷⇛⇒⇙⇞↟↨←↹↳⇴⇌⇠↟↳⇴⇒⇈↝⇊↾↹↲⇴⇒⇒↹⇰⇴↹⇷⇛⇠⇒←↤↝←←↹⇞←↨↷←⇯↨⇛←↹⇰⇴↤⇴↝↟←↹⇌⇙⇯⇠⇴↹↘⇛↨↞↹⇌⇛↝←⇞↝⇛↹↞↹↝↟⇞←↙⇛↹↝←↹⇛↲←⇆⇴⇏'"
      ]
     },
     "execution_count": 27,
     "metadata": {},
     "output_type": "execute_result"
    }
   ],
   "source": [
    "message"
   ]
  },
  {
   "cell_type": "markdown",
   "metadata": {},
   "source": [
    "Какой символ является пробелом уже очевидно"
   ]
  },
  {
   "cell_type": "code",
   "execution_count": 29,
   "metadata": {},
   "outputs": [
    {
     "data": {
      "text/plain": [
       "'←⇠⇒↟ ↷⇊ ↷↟↤↟↨← ↝⇛⇯↳⇴⇒⇈↝⇊↾ ↟⇒↟ ⇷⇛⇞↨↟ ↝⇛⇯↳⇴⇒⇈↝⇊↾ ↨←⇌⇠↨ ⇙ ⇸↨⇛↙⇛ ⇠⇛⇛↲⇆←↝↟↞ ⇌⇛↨⇛⇯⇊↾ ⇒←↙⇌⇛ ⇷⇯⇛⇞↟↨⇴↨⇈ ⇠⇌⇛⇯←← ↷⇠←↙⇛ ↷⇊ ↷⇠← ⇠↤←⇒⇴⇒↟ ⇷⇯⇴↷↟⇒⇈↝⇛ ↟ ⇷⇛⇒⇙⇞↟↨← ↳⇴⇌⇠↟↳⇴⇒⇈↝⇊↾ ↲⇴⇒⇒ ⇰⇴ ⇷⇛⇠⇒←↤↝←← ⇞←↨↷←⇯↨⇛← ⇰⇴↤⇴↝↟← ⇌⇙⇯⇠⇴ ↘⇛↨↞ ⇌⇛↝←⇞↝⇛ ↞ ↝↟⇞←↙⇛ ↝← ⇛↲←⇆⇴⇏'"
      ]
     },
     "execution_count": 29,
     "metadata": {},
     "output_type": "execute_result"
    }
   ],
   "source": [
    "mes = message.replace('↹', ' ')\n",
    "mes"
   ]
  },
  {
   "cell_type": "markdown",
   "metadata": {},
   "source": [
    "Перекодируем русскими буквами"
   ]
  },
  {
   "cell_type": "code",
   "execution_count": 36,
   "metadata": {},
   "outputs": [
    {
     "data": {
      "text/plain": [
       "'нщуг ьц ьгбгшн зъсйчухзцл гуг еътшг зъсйчухзцл шнющш ж ошъыъ щъъфкнзгв юъшъсцл уныюъ есътгшчшх щюъснн ьщныъ ьц ьщн щбнучуг есчьгухзъ г еъужтгшн йчющгйчухзцл фчуу мч еъщунбзнн тншьнсшън мчбчзгн южсщч пъшв юъзнтзъ в згтныъ зн ъфнкчэ'"
      ]
     },
     "execution_count": 36,
     "metadata": {},
     "output_type": "execute_result"
    }
   ],
   "source": [
    "enc = {i: k for i, k in zip(set(list(mes)), set('абвгдеёжзийклмнопрстуфхцчшщъыьэюя'))}\n",
    "\n",
    "alt_enc = []\n",
    "for char in mes:\n",
    "    if char != ' ':\n",
    "        alt_enc.append(enc[char])\n",
    "    else:\n",
    "        alt_enc.append(' ')\n",
    "encRus = ''.join(alt_enc)\n",
    "encRus"
   ]
  },
  {
   "cell_type": "code",
   "execution_count": 65,
   "metadata": {},
   "outputs": [],
   "source": [
    "import string\n",
    "import random\n",
    "import numpy as np\n",
    "\n",
    "def create_cipher_dict(cipher):\n",
    "    cipher_dict = {}\n",
    "    alphabet = list('абвгдеёжзийклмнопрстуфхцчшщъыьэюя')\n",
    "    for i in range(len(cipher)):\n",
    "        cipher_dict[alphabet[i]] = cipher[i]\n",
    "    return cipher_dict\n",
    "\n",
    "def apply_cipher_on_text(text,cipher):\n",
    "    cipher_dict = create_cipher_dict(cipher) \n",
    "    text = list(text)\n",
    "    newtext = []\n",
    "    for elem in text:\n",
    "        if elem in cipher_dict:\n",
    "            newtext += cipher_dict[elem]\n",
    "        else:\n",
    "            newtext += \" \"\n",
    "    return ''.join(newtext)\n",
    "\n",
    "def score_params_on_cipher(text):\n",
    "    scoring_params = {}\n",
    "    alphabet = list('абвгдеёжзийклмнопрстуфхцчшщъыьэюя')\n",
    "    data = list(text.strip())\n",
    "    for i in range(len(data) - 1):\n",
    "        alpha_i, alpha_j = data[i], data[i + 1]\n",
    "        if alpha_i not in alphabet and alpha_i != \" \":\n",
    "            alpha_i = \" \"\n",
    "        if alpha_j not in alphabet and alpha_j != \" \":\n",
    "            alpha_j = \" \"\n",
    "        key = alpha_i + alpha_j\n",
    "        if key in scoring_params:\n",
    "            scoring_params[key] += 1\n",
    "        else:\n",
    "            scoring_params[key] = 1\n",
    "    return scoring_params\n",
    "\n",
    "def get_cipher_score(text,cipher,scoring_params):\n",
    "    cipher_dict = create_cipher_dict(cipher)\n",
    "    decrypted_text = apply_cipher_on_text(text,cipher)\n",
    "    scored_f = score_params_on_cipher(decrypted_text)\n",
    "    cipher_score = 0\n",
    "    for k, v in scored_f.items():\n",
    "        if k in scoring_params:\n",
    "            cipher_score += v * math.log(scoring_params[k])\n",
    "    return cipher_score\n",
    "\n",
    "def generate_cipher(cipher):\n",
    "    pos1 = random.randint(0, len(list(cipher)) - 1)\n",
    "    pos2 = random.randint(0, len(list(cipher)) - 1)\n",
    "    if pos1 == pos2:\n",
    "        return generate_cipher(cipher)\n",
    "    else:\n",
    "        cipher = list(cipher)\n",
    "        cipher[pos1], cipher[pos2] = cipher[pos2], cipher[pos1]\n",
    "        return \"\".join(cipher)\n",
    "\n",
    "def random_coin(p):\n",
    "    unif = random.uniform(0,1)\n",
    "    return unif < p\n",
    "        "
   ]
  },
  {
   "cell_type": "code",
   "execution_count": 66,
   "metadata": {},
   "outputs": [],
   "source": [
    "def MCMC(n_iter, cipher_text, scoring_params):\n",
    "    current_cipher = 'абвгдеёжзийклмнопрстуфхцчшщъыьэюя' \n",
    "    state_keeper = set()\n",
    "    best_state = ''\n",
    "    score = 0\n",
    "    for i in range(n_iter):\n",
    "        state_keeper.add(current_cipher)\n",
    "        proposed_cipher = generate_cipher(current_cipher)\n",
    "        score_current_cipher = get_cipher_score(cipher_text, current_cipher, scoring_params)\n",
    "        score_proposed_cipher = get_cipher_score(cipher_text, proposed_cipher, scoring_params)\n",
    "        acceptance_probability = min(1, np.exp(score_proposed_cipher - score_current_cipher))\n",
    "        if score_current_cipher > score:\n",
    "            best_state = current_cipher\n",
    "        if random_coin(acceptance_probability):\n",
    "            current_cipher = proposed_cipher\n",
    "        if i % 500 == 0:\n",
    "            print(f\"iter {i}, {apply_cipher_on_text(cipher_text,current_cipher)[0:99]}\")\n",
    "    return best_state"
   ]
  },
  {
   "cell_type": "markdown",
   "metadata": {},
   "source": [
    "Пришлось довольно много раз перезапускать прежде чем получилось что-то хорошее :)"
   ]
  },
  {
   "cell_type": "code",
   "execution_count": 210,
   "metadata": {},
   "outputs": [
    {
     "name": "stdout",
     "output_type": "stream",
     "text": [
      "input - алфв оы овчвща шёцькфсшыъ вфв жёущв шёцькфсшыъ щадлщ н мщёяё лёёзеашвг дёщёцыъ фаядё жцёувщкщс лдёцаа олаяё оы ола лчафкфв жцковфсшё в жёфнувща ькдлвькфсшыъ зкфф хк жёлфачшаа уащоацщёа хкчкшва днцлк пёщг дёшаушё г швуаяё ша ёзаекю\n",
      "iter 0, алфв оы овчвща шёцькфсшыъ вфв жёущв шёцькфсшыъ щадлщ н мщёяё лёёзеашвг дёщёцыъ фаядё жцёувщкщс лдёц\n",
      "iter 500, емот си стутле рабыкогрия тот вачлт рабыкогрия ленмл ю плаза маашжерть налабия оезна вбачтлклг мнаб\n",
      "iter 1000, едит су стотле назыкимную тит вачлт назыкимную лердл я шлага даажбенть ралазую иегра взачтлклм драз\n",
      "iter 1500, едит са стутре нозькимнай тит вочрт нозькимнай релдр я прого доожбенты лорозай иегло взочтркрм длоз\n",
      "iter 2000, есит да дтутре нозькимнай тит вочрт нозькимнай релср я прого соожбенты лорозай иегло взочтркрм слоз\n",
      "iter 2500, едит сы стутре новакимный тит зочрт новакимный релдр я прого доожбенть лоровый иегло звочтркрм длов\n",
      "iter 3000, едит сы стутре новшаимный тит кочрт новшаимный релдр я прого доожбенть лоровый иегло квочтрарм длов\n",
      "iter 3500, екит сы стутре новзаимный тит дочрт новзаимный релкр я прого кообшенть лоровый иегло двочтрарм клов\n",
      "iter 4000, едси ты тимире новзасьный иси кочри новзасьный релдр я прого дообщених лоровый сегло квочирарь длов\n",
      "iter 4500, если вы вишире нотзальный или комри нотзальный редср я прого сообчениу доротый легдо ктомирарь сдот\n",
      "iter 5000, если вы вимите норзальный или кочти норзальный тедст я этого соожбениу доторый легдо крочитать сдор\n",
      "iter 5500, если вы вимите норкальный или почти норкальный тедст я этого соожбениу доторый легдо прочитать сдор\n",
      "iter 6000, если вы вимите норкальный или почти норкальный тедст я этого соожбениу доторый легдо прочитать сдор\n",
      "iter 6500, если вы вимите норчальный или подти норчальный текст у этого сообщения который легко продитать скор\n",
      "iter 7000, если вы вимите норзальный или подти норзальный текст у этого сообщения который легко продитать скор\n",
      "iter 7500, если вы вимите норчальный или подти норчальный текст у этого сообщения который легко продитать скор\n",
      "iter 8000, если вы вимите норхальный или подти норхальный текст у этого сообщения который легко продитать скор\n",
      "iter 8500, если вы вимите норзальный или подти норзальный текст у этого сообжения который легко продитать скор\n",
      "iter 9000, если вы вимите норзальный или подти норзальный текст у этого сообчения который легко продитать скор\n",
      "iter 9500, если вы вимите норзальный или подти норзальный текст у этого сообщения который легко продитать скор\n",
      "\n",
      " decoded text - если вы вимите норчальный или подти норчальный текст у этого сообжения который легко продитать скорее всего вы все смелали правильно и полудите чаксичальный балл за послемнее детвертое замание курса хотя конедно я нидего не обежаф\n"
     ]
    }
   ],
   "source": [
    "def split_into_bigrams(text):\n",
    "    return [text[i: i + 2] for i in range(len(text) - 2)]\n",
    "w8p_bigrams = split_into_bigrams(cleared_w8p)\n",
    "\n",
    "scoring_params = calc_letter_rate(w8p_bigrams)\n",
    "\n",
    "plain_text = 'д мнвиэыр н ьснфвмкг нмщшкйыгеще ьеышнммкгн мумти ыисивн ями мнве ьегнфнорыд оня ыгнфнш гмдфр ветр фнивио фн ямей к ьебифио яимд д'\n",
    "\n",
    "\n",
    "print(f\"input - {encRus}\")\n",
    "best_state = MCMC(10000, encRus, scoring_params)\n",
    "print(f\"\\n decoded text - {apply_cipher_on_text(encRus, best_state)}\")"
   ]
  },
  {
   "cell_type": "code",
   "execution_count": null,
   "metadata": {},
   "outputs": [],
   "source": []
  },
  {
   "cell_type": "code",
   "execution_count": 60,
   "metadata": {},
   "outputs": [],
   "source": []
  },
  {
   "cell_type": "code",
   "execution_count": null,
   "metadata": {},
   "outputs": [],
   "source": []
  }
 ],
 "metadata": {
  "kernelspec": {
   "display_name": "Python 3",
   "language": "python",
   "name": "python3"
  },
  "language_info": {
   "codemirror_mode": {
    "name": "ipython",
    "version": 3
   },
   "file_extension": ".py",
   "mimetype": "text/x-python",
   "name": "python",
   "nbconvert_exporter": "python",
   "pygments_lexer": "ipython3",
   "version": "3.7.7"
  }
 },
 "nbformat": 4,
 "nbformat_minor": 4
}
