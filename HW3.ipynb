{
 "cells": [
  {
   "cell_type": "code",
   "execution_count": 1,
   "metadata": {},
   "outputs": [],
   "source": [
    "import pickle\n",
    "import pandas as pd\n",
    "import datetime\n",
    "import re\n",
    "import numpy as np\n",
    "from tqdm import tqdm"
   ]
  },
  {
   "cell_type": "code",
   "execution_count": 2,
   "metadata": {},
   "outputs": [],
   "source": [
    "with open('hw3_data/players.pkl', 'rb') as f: \n",
    "    players = pickle.load(f)\n",
    "with open('hw3_data/results.pkl', 'rb') as f: \n",
    "    results = pickle.load(f)\n",
    "with open('hw3_data/tournaments.pkl', 'rb') as f: \n",
    "    tournmts = pickle.load(f)"
   ]
  },
  {
   "cell_type": "code",
   "execution_count": 3,
   "metadata": {},
   "outputs": [],
   "source": [
    "players_df = pd.DataFrame.from_dict(players).T.reset_index().drop(['index'], axis=1)"
   ]
  },
  {
   "cell_type": "code",
   "execution_count": 4,
   "metadata": {},
   "outputs": [],
   "source": [
    "all_tournmts_df = pd.DataFrame.from_dict(tournmts).T.reset_index().drop(['index'], axis=1)"
   ]
  },
  {
   "cell_type": "code",
   "execution_count": 5,
   "metadata": {},
   "outputs": [],
   "source": [
    "tournmts_df = all_tournmts_df[all_tournmts_df['dateStart'].apply(lambda x: x[:4]) == '2019']"
   ]
  },
  {
   "cell_type": "code",
   "execution_count": 6,
   "metadata": {},
   "outputs": [],
   "source": [
    "results2019 = {idx: results[idx] for idx in tournmts_df['id']}"
   ]
  },
  {
   "cell_type": "code",
   "execution_count": 7,
   "metadata": {},
   "outputs": [],
   "source": [
    "bad_idx = []\n",
    "for idx in results2019:\n",
    "    try:\n",
    "        if 'mask' not in results2019[idx][0]:\n",
    "            bad_idx.append(idx)\n",
    "    except:\n",
    "        bad_idx.append(idx)"
   ]
  },
  {
   "cell_type": "code",
   "execution_count": 8,
   "metadata": {},
   "outputs": [],
   "source": [
    "for idx in bad_idx:\n",
    "    if idx in results2019:\n",
    "        del results2019[idx]"
   ]
  },
  {
   "cell_type": "code",
   "execution_count": 9,
   "metadata": {},
   "outputs": [
    {
     "data": {
      "text/html": [
       "<div>\n",
       "<style scoped>\n",
       "    .dataframe tbody tr th:only-of-type {\n",
       "        vertical-align: middle;\n",
       "    }\n",
       "\n",
       "    .dataframe tbody tr th {\n",
       "        vertical-align: top;\n",
       "    }\n",
       "\n",
       "    .dataframe thead th {\n",
       "        text-align: right;\n",
       "    }\n",
       "</style>\n",
       "<table border=\"1\" class=\"dataframe\">\n",
       "  <thead>\n",
       "    <tr style=\"text-align: right;\">\n",
       "      <th></th>\n",
       "      <th>id</th>\n",
       "      <th>name</th>\n",
       "      <th>dateStart</th>\n",
       "      <th>dateEnd</th>\n",
       "      <th>type</th>\n",
       "      <th>season</th>\n",
       "      <th>orgcommittee</th>\n",
       "      <th>synchData</th>\n",
       "      <th>questionQty</th>\n",
       "    </tr>\n",
       "  </thead>\n",
       "  <tbody>\n",
       "    <tr>\n",
       "      <th>0</th>\n",
       "      <td>1</td>\n",
       "      <td>Чемпионат Южного Кавказа</td>\n",
       "      <td>2003-07-25T00:00:00+04:00</td>\n",
       "      <td>2003-07-27T00:00:00+04:00</td>\n",
       "      <td>{'id': 2, 'name': 'Обычный'}</td>\n",
       "      <td>/seasons/1</td>\n",
       "      <td>[]</td>\n",
       "      <td>None</td>\n",
       "      <td>None</td>\n",
       "    </tr>\n",
       "    <tr>\n",
       "      <th>1</th>\n",
       "      <td>2</td>\n",
       "      <td>Летние зори</td>\n",
       "      <td>2003-08-09T00:00:00+04:00</td>\n",
       "      <td>2003-08-09T00:00:00+04:00</td>\n",
       "      <td>{'id': 2, 'name': 'Обычный'}</td>\n",
       "      <td>/seasons/1</td>\n",
       "      <td>[]</td>\n",
       "      <td>None</td>\n",
       "      <td>None</td>\n",
       "    </tr>\n",
       "    <tr>\n",
       "      <th>2</th>\n",
       "      <td>3</td>\n",
       "      <td>Турнир в Ижевске</td>\n",
       "      <td>2003-11-22T00:00:00+03:00</td>\n",
       "      <td>2003-11-24T00:00:00+03:00</td>\n",
       "      <td>{'id': 2, 'name': 'Обычный'}</td>\n",
       "      <td>/seasons/2</td>\n",
       "      <td>[]</td>\n",
       "      <td>None</td>\n",
       "      <td>None</td>\n",
       "    </tr>\n",
       "    <tr>\n",
       "      <th>3</th>\n",
       "      <td>4</td>\n",
       "      <td>Чемпионат Украины. Переходной этап</td>\n",
       "      <td>2003-10-11T00:00:00+04:00</td>\n",
       "      <td>2003-10-12T00:00:00+04:00</td>\n",
       "      <td>{'id': 2, 'name': 'Обычный'}</td>\n",
       "      <td>/seasons/2</td>\n",
       "      <td>[]</td>\n",
       "      <td>None</td>\n",
       "      <td>None</td>\n",
       "    </tr>\n",
       "    <tr>\n",
       "      <th>4</th>\n",
       "      <td>5</td>\n",
       "      <td>Бостонское чаепитие</td>\n",
       "      <td>2003-10-10T00:00:00+04:00</td>\n",
       "      <td>2003-10-13T00:00:00+04:00</td>\n",
       "      <td>{'id': 2, 'name': 'Обычный'}</td>\n",
       "      <td>/seasons/2</td>\n",
       "      <td>[]</td>\n",
       "      <td>None</td>\n",
       "      <td>None</td>\n",
       "    </tr>\n",
       "    <tr>\n",
       "      <th>...</th>\n",
       "      <td>...</td>\n",
       "      <td>...</td>\n",
       "      <td>...</td>\n",
       "      <td>...</td>\n",
       "      <td>...</td>\n",
       "      <td>...</td>\n",
       "      <td>...</td>\n",
       "      <td>...</td>\n",
       "      <td>...</td>\n",
       "    </tr>\n",
       "    <tr>\n",
       "      <th>5523</th>\n",
       "      <td>6481</td>\n",
       "      <td>Онлайн: 15:00 (а)Синхрон-lite. Лига старта. Эп...</td>\n",
       "      <td>2020-05-05T15:00:00+03:00</td>\n",
       "      <td>2020-05-05T18:00:00+03:00</td>\n",
       "      <td>{'id': 2, 'name': 'Обычный'}</td>\n",
       "      <td>/seasons/53</td>\n",
       "      <td>[{'id': 7533, 'name': 'Денис', 'patronymic': '...</td>\n",
       "      <td>None</td>\n",
       "      <td>{'1': 12, '2': 12, '3': 12}</td>\n",
       "    </tr>\n",
       "    <tr>\n",
       "      <th>5524</th>\n",
       "      <td>6482</td>\n",
       "      <td>Онлайн: 19:00 Зелёный шум</td>\n",
       "      <td>2020-05-07T19:00:00+03:00</td>\n",
       "      <td>2020-05-07T21:30:00+03:00</td>\n",
       "      <td>{'id': 2, 'name': 'Обычный'}</td>\n",
       "      <td>/seasons/53</td>\n",
       "      <td>[{'id': 7533, 'name': 'Денис', 'patronymic': '...</td>\n",
       "      <td>None</td>\n",
       "      <td>{'1': 13, '2': 13, '3': 13}</td>\n",
       "    </tr>\n",
       "    <tr>\n",
       "      <th>5525</th>\n",
       "      <td>6483</td>\n",
       "      <td>Онлайн: 19:00 (а)Синхрон-lite. Лига старта. Эп...</td>\n",
       "      <td>2020-05-08T19:00:00+03:00</td>\n",
       "      <td>2020-05-08T21:30:00+03:00</td>\n",
       "      <td>{'id': 2, 'name': 'Обычный'}</td>\n",
       "      <td>/seasons/53</td>\n",
       "      <td>[{'id': 7533, 'name': 'Денис', 'patronymic': '...</td>\n",
       "      <td>None</td>\n",
       "      <td>{'1': 12, '2': 12, '3': 12}</td>\n",
       "    </tr>\n",
       "    <tr>\n",
       "      <th>5526</th>\n",
       "      <td>6484</td>\n",
       "      <td>Онлайн: 22:00 Не числом, а умением - 2 (NEW!)</td>\n",
       "      <td>2020-05-04T22:00:00+03:00</td>\n",
       "      <td>2020-05-04T23:40:00+03:00</td>\n",
       "      <td>{'id': 2, 'name': 'Обычный'}</td>\n",
       "      <td>/seasons/53</td>\n",
       "      <td>[{'id': 7533, 'name': 'Денис', 'patronymic': '...</td>\n",
       "      <td>None</td>\n",
       "      <td>{'1': 12, '2': 12}</td>\n",
       "    </tr>\n",
       "    <tr>\n",
       "      <th>5527</th>\n",
       "      <td>6485</td>\n",
       "      <td>Онлайн: 19:00 Не числом, а умением</td>\n",
       "      <td>2020-05-06T19:00:00+03:00</td>\n",
       "      <td>2020-05-06T20:45:00+03:00</td>\n",
       "      <td>{'id': 2, 'name': 'Обычный'}</td>\n",
       "      <td>/seasons/53</td>\n",
       "      <td>[{'id': 7533, 'name': 'Денис', 'patronymic': '...</td>\n",
       "      <td>None</td>\n",
       "      <td>{'1': 12, '2': 12}</td>\n",
       "    </tr>\n",
       "  </tbody>\n",
       "</table>\n",
       "<p>5528 rows × 9 columns</p>\n",
       "</div>"
      ],
      "text/plain": [
       "        id                                               name  \\\n",
       "0        1                           Чемпионат Южного Кавказа   \n",
       "1        2                                        Летние зори   \n",
       "2        3                                   Турнир в Ижевске   \n",
       "3        4                 Чемпионат Украины. Переходной этап   \n",
       "4        5                                Бостонское чаепитие   \n",
       "...    ...                                                ...   \n",
       "5523  6481  Онлайн: 15:00 (а)Синхрон-lite. Лига старта. Эп...   \n",
       "5524  6482                          Онлайн: 19:00 Зелёный шум   \n",
       "5525  6483  Онлайн: 19:00 (а)Синхрон-lite. Лига старта. Эп...   \n",
       "5526  6484      Онлайн: 22:00 Не числом, а умением - 2 (NEW!)   \n",
       "5527  6485                 Онлайн: 19:00 Не числом, а умением   \n",
       "\n",
       "                      dateStart                    dateEnd  \\\n",
       "0     2003-07-25T00:00:00+04:00  2003-07-27T00:00:00+04:00   \n",
       "1     2003-08-09T00:00:00+04:00  2003-08-09T00:00:00+04:00   \n",
       "2     2003-11-22T00:00:00+03:00  2003-11-24T00:00:00+03:00   \n",
       "3     2003-10-11T00:00:00+04:00  2003-10-12T00:00:00+04:00   \n",
       "4     2003-10-10T00:00:00+04:00  2003-10-13T00:00:00+04:00   \n",
       "...                         ...                        ...   \n",
       "5523  2020-05-05T15:00:00+03:00  2020-05-05T18:00:00+03:00   \n",
       "5524  2020-05-07T19:00:00+03:00  2020-05-07T21:30:00+03:00   \n",
       "5525  2020-05-08T19:00:00+03:00  2020-05-08T21:30:00+03:00   \n",
       "5526  2020-05-04T22:00:00+03:00  2020-05-04T23:40:00+03:00   \n",
       "5527  2020-05-06T19:00:00+03:00  2020-05-06T20:45:00+03:00   \n",
       "\n",
       "                              type       season  \\\n",
       "0     {'id': 2, 'name': 'Обычный'}   /seasons/1   \n",
       "1     {'id': 2, 'name': 'Обычный'}   /seasons/1   \n",
       "2     {'id': 2, 'name': 'Обычный'}   /seasons/2   \n",
       "3     {'id': 2, 'name': 'Обычный'}   /seasons/2   \n",
       "4     {'id': 2, 'name': 'Обычный'}   /seasons/2   \n",
       "...                            ...          ...   \n",
       "5523  {'id': 2, 'name': 'Обычный'}  /seasons/53   \n",
       "5524  {'id': 2, 'name': 'Обычный'}  /seasons/53   \n",
       "5525  {'id': 2, 'name': 'Обычный'}  /seasons/53   \n",
       "5526  {'id': 2, 'name': 'Обычный'}  /seasons/53   \n",
       "5527  {'id': 2, 'name': 'Обычный'}  /seasons/53   \n",
       "\n",
       "                                           orgcommittee synchData  \\\n",
       "0                                                    []      None   \n",
       "1                                                    []      None   \n",
       "2                                                    []      None   \n",
       "3                                                    []      None   \n",
       "4                                                    []      None   \n",
       "...                                                 ...       ...   \n",
       "5523  [{'id': 7533, 'name': 'Денис', 'patronymic': '...      None   \n",
       "5524  [{'id': 7533, 'name': 'Денис', 'patronymic': '...      None   \n",
       "5525  [{'id': 7533, 'name': 'Денис', 'patronymic': '...      None   \n",
       "5526  [{'id': 7533, 'name': 'Денис', 'patronymic': '...      None   \n",
       "5527  [{'id': 7533, 'name': 'Денис', 'patronymic': '...      None   \n",
       "\n",
       "                      questionQty  \n",
       "0                            None  \n",
       "1                            None  \n",
       "2                            None  \n",
       "3                            None  \n",
       "4                            None  \n",
       "...                           ...  \n",
       "5523  {'1': 12, '2': 12, '3': 12}  \n",
       "5524  {'1': 13, '2': 13, '3': 13}  \n",
       "5525  {'1': 12, '2': 12, '3': 12}  \n",
       "5526           {'1': 12, '2': 12}  \n",
       "5527           {'1': 12, '2': 12}  \n",
       "\n",
       "[5528 rows x 9 columns]"
      ]
     },
     "execution_count": 9,
     "metadata": {},
     "output_type": "execute_result"
    }
   ],
   "source": [
    "all_tournmts_df"
   ]
  },
  {
   "cell_type": "code",
   "execution_count": 10,
   "metadata": {},
   "outputs": [],
   "source": [
    "players_results = {}\n",
    "for tournmnt_idx in results2019:\n",
    "    for team in results2019[tournmnt_idx]:\n",
    "        cur_mask = team['mask']\n",
    "        for member in team['teamMembers']:\n",
    "            if member['player']['id'] not in players_results:\n",
    "                players_results[member['player']['id']] = {tournmnt_idx: cur_mask}\n",
    "            else:\n",
    "                players_results[member['player']['id']][tournmnt_idx] = cur_mask "
   ]
  },
  {
   "cell_type": "code",
   "execution_count": 11,
   "metadata": {},
   "outputs": [],
   "source": [
    "bads = []\n",
    "for player in players_results:\n",
    "    for tour in players_results[player]:\n",
    "        if isinstance(players_results[player][tour], str):\n",
    "            players_results[player][tour] = re.sub(r'[^01]', '0', players_results[player][tour])\n",
    "        else:\n",
    "            bads.append((player, tour))"
   ]
  },
  {
   "cell_type": "code",
   "execution_count": 12,
   "metadata": {},
   "outputs": [],
   "source": [
    "for bad in bads:\n",
    "    del players_results[bad[0]][bad[1]]"
   ]
  },
  {
   "cell_type": "code",
   "execution_count": 13,
   "metadata": {},
   "outputs": [],
   "source": [
    "for player in players_results:\n",
    "    for tour in players_results[player]:\n",
    "        players_results[player][tour] = np.array(list(map(float, list(players_results[player][tour]))))"
   ]
  },
  {
   "cell_type": "code",
   "execution_count": 14,
   "metadata": {},
   "outputs": [],
   "source": [
    "def calc_average(tour_idx, skip_player_idx=None):\n",
    "    results = []\n",
    "    for player in players_results:\n",
    "        if tour_idx in players_results[player] and player != skip_player_idx:\n",
    "            results.append(players_results[player][tour_idx])\n",
    "    avg = np.mean(results, axis=0)\n",
    "    return np.where(avg == 0, 0.1, avg)"
   ]
  },
  {
   "cell_type": "markdown",
   "metadata": {},
   "source": [
    "Пусть сложность вопроса - процентное соотношение количества людей, который ответили на него, исключая данного игрока. \\\n",
    "Пусть количество баллов, который будет получать человек за правильно отвеченный вопрос - 1 / сложность вопроса. \\\n",
    "В рамках одного турнира результат игрока - усреднённое количество баллов за все вопросы."
   ]
  },
  {
   "cell_type": "code",
   "execution_count": null,
   "metadata": {},
   "outputs": [],
   "source": [
    "res = calc_average(4772)\n",
    "res"
   ]
  },
  {
   "cell_type": "code",
   "execution_count": 25,
   "metadata": {},
   "outputs": [],
   "source": [
    "tour_idxs = set()\n",
    "for player in players_results:\n",
    "    for tour in players_results[player]:\n",
    "        tour_idxs.add(tour)"
   ]
  },
  {
   "cell_type": "code",
   "execution_count": 27,
   "metadata": {},
   "outputs": [
    {
     "name": "stderr",
     "output_type": "stream",
     "text": [
      "100%|██████████| 675/675 [00:08<00:00, 78.08it/s]\n"
     ]
    }
   ],
   "source": [
    "tour_avgs = {}\n",
    "for tour in tqdm(tour_idxs):\n",
    "    try:\n",
    "        tour_avgs[tour] = calc_average(tour)\n",
    "    except:\n",
    "        continue"
   ]
  },
  {
   "cell_type": "code",
   "execution_count": null,
   "metadata": {},
   "outputs": [],
   "source": []
  },
  {
   "cell_type": "code",
   "execution_count": 33,
   "metadata": {},
   "outputs": [
    {
     "name": "stderr",
     "output_type": "stream",
     "text": [
      "100%|██████████| 59216/59216 [00:02<00:00, 23163.65it/s]\n"
     ]
    }
   ],
   "source": [
    "player_scores = {}\n",
    "for player in tqdm(players_results):\n",
    "    cur_player_result = {}\n",
    "    for tour in players_results[player]:\n",
    "        if tour in tour_avgs:\n",
    "            cur_player_result[tour] = np.mean(players_results[player][tour] / tour_avgs[tour])\n",
    "    player_scores[player] = cur_player_result"
   ]
  },
  {
   "cell_type": "code",
   "execution_count": 38,
   "metadata": {},
   "outputs": [
    {
     "name": "stderr",
     "output_type": "stream",
     "text": [
      "/home/ffisin/PycharmProjects/made/venv/lib/python3.7/site-packages/numpy/core/fromnumeric.py:3335: RuntimeWarning: Mean of empty slice.\n",
      "  out=out, **kwargs)\n",
      "/home/ffisin/PycharmProjects/made/venv/lib/python3.7/site-packages/numpy/core/_methods.py:161: RuntimeWarning: invalid value encountered in double_scalars\n",
      "  ret = ret.dtype.type(ret / rcount)\n"
     ]
    }
   ],
   "source": [
    "players_avg_scores = []\n",
    "for player in player_scores:\n",
    "    players_avg_scores.append([player, np.mean(list(player_scores[player].values()))])"
   ]
  },
  {
   "cell_type": "code",
   "execution_count": 42,
   "metadata": {},
   "outputs": [],
   "source": [
    "sortedd = sorted(players_avg_scores, key=lambda x: -x[1])"
   ]
  },
  {
   "cell_type": "code",
   "execution_count": 80,
   "metadata": {},
   "outputs": [],
   "source": [
    "players_power = {x[0]: x[1] for x in sortedd}"
   ]
  },
  {
   "cell_type": "code",
   "execution_count": 47,
   "metadata": {},
   "outputs": [],
   "source": [
    "tournmts_df2020 = all_tournmts_df[all_tournmts_df['dateStart'].apply(lambda x: x[:4]) == '2020']"
   ]
  },
  {
   "cell_type": "code",
   "execution_count": 178,
   "metadata": {},
   "outputs": [],
   "source": [
    "results2020 = {idx: results[idx] for idx in tournmts_df2020['id']}"
   ]
  },
  {
   "cell_type": "code",
   "execution_count": 179,
   "metadata": {},
   "outputs": [],
   "source": [
    "teams2020 = {}\n",
    "for tour in results2020:\n",
    "    cur_results = {}\n",
    "    for team in results2020[tour]:\n",
    "        if 'position' in team:\n",
    "            pos = team['position']\n",
    "        else:\n",
    "            continue\n",
    "        members = []\n",
    "        for member in team['teamMembers']:\n",
    "            members.append(member['player']['id'])\n",
    "        cur_results[team['team']['id']] = {'pos': pos, 'members': members}\n",
    "    teams2020[tour] = cur_results\n",
    "        "
   ]
  },
  {
   "cell_type": "code",
   "execution_count": 180,
   "metadata": {},
   "outputs": [
    {
     "name": "stderr",
     "output_type": "stream",
     "text": [
      "/home/ffisin/PycharmProjects/made/venv/lib/python3.7/site-packages/numpy/core/fromnumeric.py:3335: RuntimeWarning: Mean of empty slice.\n",
      "  out=out, **kwargs)\n",
      "/home/ffisin/PycharmProjects/made/venv/lib/python3.7/site-packages/numpy/core/_methods.py:161: RuntimeWarning: invalid value encountered in double_scalars\n",
      "  ret = ret.dtype.type(ret / rcount)\n"
     ]
    }
   ],
   "source": [
    "for tour in teams2020:\n",
    "    for team in teams2020[tour]:\n",
    "        powers = []\n",
    "        for member in teams2020[tour][team]['members']:\n",
    "            if member in players_power:\n",
    "                powers.append(players_power[member])\n",
    "            else:\n",
    "                powers.append(0)\n",
    "        teams2020[tour][team]['avg_power'] = np.mean(powers)"
   ]
  },
  {
   "cell_type": "code",
   "execution_count": 181,
   "metadata": {},
   "outputs": [],
   "source": [
    "from scipy.stats import spearmanr, kendalltau"
   ]
  },
  {
   "cell_type": "code",
   "execution_count": 189,
   "metadata": {},
   "outputs": [],
   "source": [
    "def calc_corr(tour_idx):\n",
    "    true_pos = []\n",
    "    scores = []\n",
    "    for team in teams2020[tour_idx]:\n",
    "        true_pos.append(teams2020[tour_idx][team]['pos'])\n",
    "        scores.append([teams2020[tour_idx][team]['pos'], teams2020[tour_idx][team]['avg_power']])\n",
    "    pred_rank = [s[0] for s in sorted(scores, key=lambda x: -x[1])]\n",
    "    spear = spearmanr(true_pos, pred_rank, nan_policy='omit')[0]\n",
    "    kend = kendalltau(true_pos, pred_rank, nan_policy='omit')[0]\n",
    "    return (spear, kend)"
   ]
  },
  {
   "cell_type": "code",
   "execution_count": 190,
   "metadata": {},
   "outputs": [],
   "source": [
    "spears = []\n",
    "kends = []\n",
    "for tour in teams2020:\n",
    "    spear, kend = calc_corr(tour)\n",
    "    if not np.isnan(spear):\n",
    "        spears.append(spear)\n",
    "    if not np.isnan(kend):\n",
    "        kends.append(kend)\n",
    "    "
   ]
  },
  {
   "cell_type": "code",
   "execution_count": 195,
   "metadata": {},
   "outputs": [
    {
     "data": {
      "text/plain": [
       "0.7992867830083643"
      ]
     },
     "execution_count": 195,
     "metadata": {},
     "output_type": "execute_result"
    }
   ],
   "source": [
    "np.mean(spears)"
   ]
  },
  {
   "cell_type": "code",
   "execution_count": 196,
   "metadata": {},
   "outputs": [
    {
     "data": {
      "text/plain": [
       "0.6711605703450698"
      ]
     },
     "execution_count": 196,
     "metadata": {},
     "output_type": "execute_result"
    }
   ],
   "source": [
    "np.mean(kends)"
   ]
  },
  {
   "cell_type": "markdown",
   "metadata": {},
   "source": [
    "# В данном случае человек с один успешным турниром получает большой скор. Попробуем домножать на логарифм количества игр игрока"
   ]
  },
  {
   "cell_type": "code",
   "execution_count": 261,
   "metadata": {},
   "outputs": [],
   "source": [
    "players_power1 = {\n",
    "    player: power * np.log(len(player_scores[player]) + 18) for player, power in players_power.items()\n",
    "}"
   ]
  },
  {
   "cell_type": "code",
   "execution_count": 262,
   "metadata": {},
   "outputs": [],
   "source": [
    "for tour in teams2020:\n",
    "    for team in teams2020[tour]:\n",
    "        powers = []\n",
    "        for member in teams2020[tour][team]['members']:\n",
    "            if member in players_power1:\n",
    "                powers.append(players_power1[member])\n",
    "            else:\n",
    "                powers.append(0)\n",
    "        teams2020[tour][team]['avg_power'] = np.mean(powers)"
   ]
  },
  {
   "cell_type": "code",
   "execution_count": 263,
   "metadata": {},
   "outputs": [],
   "source": [
    "spears = []\n",
    "kends = []\n",
    "for tour in teams2020:\n",
    "    spear, kend = calc_corr(tour)\n",
    "    if not np.isnan(spear):\n",
    "        spears.append(spear)\n",
    "    if not np.isnan(kend):\n",
    "        kends.append(kend)\n",
    "    "
   ]
  },
  {
   "cell_type": "code",
   "execution_count": 264,
   "metadata": {},
   "outputs": [
    {
     "data": {
      "text/plain": [
       "0.8113734208893483"
      ]
     },
     "execution_count": 264,
     "metadata": {},
     "output_type": "execute_result"
    }
   ],
   "source": [
    "np.mean(spears)"
   ]
  },
  {
   "cell_type": "code",
   "execution_count": 265,
   "metadata": {},
   "outputs": [
    {
     "data": {
      "text/plain": [
       "0.682724669976522"
      ]
     },
     "execution_count": 265,
     "metadata": {},
     "output_type": "execute_result"
    }
   ],
   "source": [
    "np.mean(kends)"
   ]
  },
  {
   "cell_type": "code",
   "execution_count": null,
   "metadata": {},
   "outputs": [],
   "source": []
  }
 ],
 "metadata": {
  "kernelspec": {
   "display_name": "Python 3",
   "language": "python",
   "name": "python3"
  },
  "language_info": {
   "codemirror_mode": {
    "name": "ipython",
    "version": 3
   },
   "file_extension": ".py",
   "mimetype": "text/x-python",
   "name": "python",
   "nbconvert_exporter": "python",
   "pygments_lexer": "ipython3",
   "version": "3.7.7"
  }
 },
 "nbformat": 4,
 "nbformat_minor": 1
}
